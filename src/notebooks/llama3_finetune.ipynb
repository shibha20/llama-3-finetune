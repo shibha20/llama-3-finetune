{
 "cells": [
  {
   "cell_type": "markdown",
   "metadata": {},
   "source": [
    "- Fine-tune multi-lingual - with both Hindi and Nepali\n",
    "- Fine tune with Hindi run inference on Nepali \n",
    "- Fine tune with Nepali run inference on Hindi\n",
    "- Fine tune with Nepali run inference on Nepali\n",
    "- Fine tune with Hindi run inference on Hindi"
   ]
  }
 ],
 "metadata": {
  "language_info": {
   "name": "python"
  }
 },
 "nbformat": 4,
 "nbformat_minor": 2
}
