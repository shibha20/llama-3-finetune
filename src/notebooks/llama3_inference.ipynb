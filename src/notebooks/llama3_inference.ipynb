{
 "cells": [
  {
   "cell_type": "code",
   "execution_count": 1,
   "metadata": {},
   "outputs": [
    {
     "name": "stderr",
     "output_type": "stream",
     "text": [
      "/Users/shreeyadhakal/Desktop/Projects-2023/venv/lib/python3.9/site-packages/tqdm/auto.py:21: TqdmWarning: IProgress not found. Please update jupyter and ipywidgets. See https://ipywidgets.readthedocs.io/en/stable/user_install.html\n",
      "  from .autonotebook import tqdm as notebook_tqdm\n"
     ]
    }
   ],
   "source": [
    "from datasets import load_dataset\n",
    "import sys\n",
    "sys.path.append('/Users/shreeyadhakal/Desktop/Projects-2023/llama-3-finetune/src/')\n",
    "from data.data_sampler import sample_data\n",
    "from unsloth import FastLanguageModel\n",
    "import torch"
   ]
  },
  {
   "cell_type": "code",
   "execution_count": 2,
   "metadata": {},
   "outputs": [],
   "source": [
    "split_ratio = 0.2\n",
    "seed = 42"
   ]
  },
  {
   "cell_type": "code",
   "execution_count": 3,
   "metadata": {},
   "outputs": [],
   "source": [
    "dataset_name = \"CohereForAI/aya_dataset\"\n",
    "dataset_type = \"aya\""
   ]
  },
  {
   "cell_type": "code",
   "execution_count": 4,
   "metadata": {},
   "outputs": [
    {
     "name": "stderr",
     "output_type": "stream",
     "text": [
      "2024-05-30 00:25:33,614 - INFO - Processing dataset: CohereForAI/aya_dataset for language: Nepali\n",
      "Filter: 100%|██████████| 202362/202362 [00:02<00:00, 72145.79 examples/s]\n",
      "Filter: 100%|██████████| 1750/1750 [00:00<00:00, 66325.99 examples/s]\n",
      "Filter: 100%|██████████| 4002/4002 [00:00<00:00, 32346.94 examples/s]\n",
      "2024-05-30 00:25:40,218 - INFO - Saved indices for dataset: CohereForAI/aya_dataset and language: Nepali\n"
     ]
    }
   ],
   "source": [
    "lang_multi = \"Nepali\"\n",
    "_, aya_nepali_test = sample_data(dataset_name, dataset_type, split_ratio, seed, output_dir=None, lang_multi=lang_multi)"
   ]
  },
  {
   "cell_type": "code",
   "execution_count": 5,
   "metadata": {},
   "outputs": [
    {
     "data": {
      "text/plain": [
       "Dataset({\n",
       "    features: ['inputs', 'targets', 'language', 'language_code', 'annotation_type', 'user_id'],\n",
       "    num_rows: 801\n",
       "})"
      ]
     },
     "execution_count": 5,
     "metadata": {},
     "output_type": "execute_result"
    }
   ],
   "source": [
    "aya_nepali_test"
   ]
  },
  {
   "cell_type": "code",
   "execution_count": 7,
   "metadata": {},
   "outputs": [
    {
     "name": "stderr",
     "output_type": "stream",
     "text": [
      "2024-05-30 00:26:07,887 - INFO - Processing dataset: CohereForAI/aya_dataset for language: Hindi\n",
      "Filter: 100%|██████████| 202362/202362 [00:03<00:00, 58853.18 examples/s]\n",
      "Filter: 100%|██████████| 1750/1750 [00:00<00:00, 53623.85 examples/s]\n",
      "Filter: 100%|██████████| 1153/1153 [00:00<00:00, 24360.80 examples/s]\n",
      "2024-05-30 00:26:14,357 - INFO - Saved indices for dataset: CohereForAI/aya_dataset and language: Hindi\n"
     ]
    }
   ],
   "source": [
    "lang_multi = \"Hindi\"\n",
    "_, aya_hindi_test = sample_data(dataset_name, dataset_type, split_ratio, seed, output_dir=None, lang_multi=lang_multi)"
   ]
  },
  {
   "cell_type": "code",
   "execution_count": 8,
   "metadata": {},
   "outputs": [
    {
     "data": {
      "text/plain": [
       "Dataset({\n",
       "    features: ['inputs', 'targets', 'language', 'language_code', 'annotation_type', 'user_id'],\n",
       "    num_rows: 231\n",
       "})"
      ]
     },
     "execution_count": 8,
     "metadata": {},
     "output_type": "execute_result"
    }
   ],
   "source": [
    "aya_hindi_test"
   ]
  },
  {
   "cell_type": "code",
   "execution_count": 9,
   "metadata": {},
   "outputs": [
    {
     "name": "stderr",
     "output_type": "stream",
     "text": [
      "2024-05-30 00:26:24,385 - INFO - Processing dataset: Saugatkafley/alpaca-nepali-sft for language: None\n",
      "Filter: 100%|██████████| 52005/52005 [00:00<00:00, 77692.58 examples/s]\n",
      "Filter: 100%|██████████| 51963/51963 [00:01<00:00, 42049.15 examples/s]\n",
      "Filter: 100%|██████████| 51963/51963 [00:01<00:00, 31283.15 examples/s]\n",
      "2024-05-30 00:26:30,208 - INFO - Saved indices for dataset: Saugatkafley/alpaca-nepali-sft and language: None\n"
     ]
    }
   ],
   "source": [
    "dataset_name = \"Saugatkafley/alpaca-nepali-sft\"\n",
    "_, alpaca_nepali_test = sample_data(dataset_name, \"alpaca\", split_ratio, seed, output_dir=None, lang_multi=None)"
   ]
  },
  {
   "cell_type": "code",
   "execution_count": 10,
   "metadata": {},
   "outputs": [
    {
     "data": {
      "text/plain": [
       "Dataset({\n",
       "    features: ['instruction', 'input', 'output', 'id'],\n",
       "    num_rows: 10392\n",
       "})"
      ]
     },
     "execution_count": 10,
     "metadata": {},
     "output_type": "execute_result"
    }
   ],
   "source": [
    "alpaca_nepali_test"
   ]
  },
  {
   "cell_type": "code",
   "execution_count": 11,
   "metadata": {},
   "outputs": [
    {
     "name": "stderr",
     "output_type": "stream",
     "text": [
      "2024-05-30 00:26:34,077 - INFO - Processing dataset: iamshnoo/alpaca-cleaned-hindi for language: None\n",
      "Filter: 100%|██████████| 51760/51760 [00:01<00:00, 41933.85 examples/s]\n",
      "Filter: 100%|██████████| 51760/51760 [00:01<00:00, 41096.81 examples/s]\n",
      "Filter: 100%|██████████| 51760/51760 [00:01<00:00, 37515.32 examples/s]\n",
      "2024-05-30 00:26:39,956 - INFO - Saved indices for dataset: iamshnoo/alpaca-cleaned-hindi and language: None\n"
     ]
    }
   ],
   "source": [
    "dataset_name = \"iamshnoo/alpaca-cleaned-hindi\"\n",
    "_, alpaca_hindi_test = sample_data(dataset_name, \"alpaca\", split_ratio, seed, output_dir=None, lang_multi=None)"
   ]
  },
  {
   "cell_type": "code",
   "execution_count": null,
   "metadata": {},
   "outputs": [],
   "source": [
    "alpaca_hindi_test"
   ]
  },
  {
   "cell_type": "code",
   "execution_count": null,
   "metadata": {},
   "outputs": [],
   "source": [
    "max_seq_length = 2048 # Choose any! We auto support RoPE Scaling internally!\n",
    "dtype = None # None for auto detection. Float16 for Tesla T4, V100, Bfloat16 for Ampere+\n",
    "load_in_4bit = True\n",
    "\n",
    "model, tokenizer = FastLanguageModel.from_pretrained(\n",
    "    model_name = \"unsloth/llama-3-8b-bnb-4bit\",\n",
    "    max_seq_length = max_seq_length,\n",
    "    dtype = dtype,\n",
    "    load_in_4bit = load_in_4bit,\n",
    "    # token = \"hf_...\", # use one if using gated models like meta-llama/Llama-2-7b-hf\n",
    ")"
   ]
  }
 ],
 "metadata": {
  "kernelspec": {
   "display_name": "venv",
   "language": "python",
   "name": "python3"
  },
  "language_info": {
   "codemirror_mode": {
    "name": "ipython",
    "version": 3
   },
   "file_extension": ".py",
   "mimetype": "text/x-python",
   "name": "python",
   "nbconvert_exporter": "python",
   "pygments_lexer": "ipython3",
   "version": "3.9.6"
  }
 },
 "nbformat": 4,
 "nbformat_minor": 2
}
